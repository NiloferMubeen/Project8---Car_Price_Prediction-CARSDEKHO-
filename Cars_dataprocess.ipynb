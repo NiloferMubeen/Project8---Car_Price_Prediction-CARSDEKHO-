{
 "cells": [
  {
   "cell_type": "markdown",
   "metadata": {},
   "source": [
    "# CARS DEKHO DATA PREPROCESSING"
   ]
  },
  {
   "cell_type": "code",
   "execution_count": 1,
   "metadata": {},
   "outputs": [],
   "source": [
    "import glob\n",
    "import pandas as pd"
   ]
  },
  {
   "cell_type": "markdown",
   "metadata": {},
   "source": [
    "#### Combining all the Excel files"
   ]
  },
  {
   "cell_type": "code",
   "execution_count": 2,
   "metadata": {},
   "outputs": [],
   "source": [
    "path = r\"F:\\Learnings\\DataScientist\\GUVI-1\\Career_fair\\ML project(cardekho)\"\n",
    "file_list = glob.glob(path + r\"/*.xlsx\")\n",
    "excl_list = []\n",
    "for file in file_list:\n",
    "    excl_list.append(pd.read_excel(file))"
   ]
  },
  {
   "cell_type": "code",
   "execution_count": 3,
   "metadata": {},
   "outputs": [
    {
     "data": {
      "text/html": [
       "<div>\n",
       "<style scoped>\n",
       "    .dataframe tbody tr th:only-of-type {\n",
       "        vertical-align: middle;\n",
       "    }\n",
       "\n",
       "    .dataframe tbody tr th {\n",
       "        vertical-align: top;\n",
       "    }\n",
       "\n",
       "    .dataframe thead th {\n",
       "        text-align: right;\n",
       "    }\n",
       "</style>\n",
       "<table border=\"1\" class=\"dataframe\">\n",
       "  <thead>\n",
       "    <tr style=\"text-align: right;\">\n",
       "      <th></th>\n",
       "      <th>new_car_detail</th>\n",
       "      <th>new_car_overview</th>\n",
       "      <th>new_car_feature</th>\n",
       "      <th>new_car_specs</th>\n",
       "      <th>car_links</th>\n",
       "    </tr>\n",
       "  </thead>\n",
       "  <tbody>\n",
       "    <tr>\n",
       "      <th>0</th>\n",
       "      <td>{'it': 0, 'ft': 'Petrol', 'bt': 'Hatchback', '...</td>\n",
       "      <td>{'heading': 'Car overview', 'top': [{'key': 'R...</td>\n",
       "      <td>{'heading': 'Features', 'top': [{'value': 'Pow...</td>\n",
       "      <td>{'heading': 'Specifications', 'top': [{'key': ...</td>\n",
       "      <td>https://www.cardekho.com/used-car-details/used...</td>\n",
       "    </tr>\n",
       "    <tr>\n",
       "      <th>1</th>\n",
       "      <td>{'it': 0, 'ft': 'Petrol', 'bt': 'SUV', 'km': '...</td>\n",
       "      <td>{'heading': 'Car overview', 'top': [{'key': 'R...</td>\n",
       "      <td>{'heading': 'Features', 'top': [{'value': 'Pow...</td>\n",
       "      <td>{'heading': 'Specifications', 'top': [{'key': ...</td>\n",
       "      <td>https://www.cardekho.com/buy-used-car-details/...</td>\n",
       "    </tr>\n",
       "    <tr>\n",
       "      <th>2</th>\n",
       "      <td>{'it': 0, 'ft': 'Petrol', 'bt': 'Hatchback', '...</td>\n",
       "      <td>{'heading': 'Car overview', 'top': [{'key': 'R...</td>\n",
       "      <td>{'heading': 'Features', 'top': [{'value': 'Pow...</td>\n",
       "      <td>{'heading': 'Specifications', 'top': [{'key': ...</td>\n",
       "      <td>https://www.cardekho.com/used-car-details/used...</td>\n",
       "    </tr>\n",
       "    <tr>\n",
       "      <th>3</th>\n",
       "      <td>{'it': 0, 'ft': 'Petrol', 'bt': 'Sedan', 'km':...</td>\n",
       "      <td>{'heading': 'Car overview', 'top': [{'key': 'R...</td>\n",
       "      <td>{'heading': 'Features', 'top': [{'value': 'Pow...</td>\n",
       "      <td>{'heading': 'Specifications', 'top': [{'key': ...</td>\n",
       "      <td>https://www.cardekho.com/buy-used-car-details/...</td>\n",
       "    </tr>\n",
       "    <tr>\n",
       "      <th>4</th>\n",
       "      <td>{'it': 0, 'ft': 'Diesel', 'bt': 'SUV', 'km': '...</td>\n",
       "      <td>{'heading': 'Car overview', 'top': [{'key': 'R...</td>\n",
       "      <td>{'heading': 'Features', 'top': [{'value': 'Pow...</td>\n",
       "      <td>{'heading': 'Specifications', 'top': [{'key': ...</td>\n",
       "      <td>https://www.cardekho.com/used-car-details/used...</td>\n",
       "    </tr>\n",
       "  </tbody>\n",
       "</table>\n",
       "</div>"
      ],
      "text/plain": [
       "                                      new_car_detail  \\\n",
       "0  {'it': 0, 'ft': 'Petrol', 'bt': 'Hatchback', '...   \n",
       "1  {'it': 0, 'ft': 'Petrol', 'bt': 'SUV', 'km': '...   \n",
       "2  {'it': 0, 'ft': 'Petrol', 'bt': 'Hatchback', '...   \n",
       "3  {'it': 0, 'ft': 'Petrol', 'bt': 'Sedan', 'km':...   \n",
       "4  {'it': 0, 'ft': 'Diesel', 'bt': 'SUV', 'km': '...   \n",
       "\n",
       "                                    new_car_overview  \\\n",
       "0  {'heading': 'Car overview', 'top': [{'key': 'R...   \n",
       "1  {'heading': 'Car overview', 'top': [{'key': 'R...   \n",
       "2  {'heading': 'Car overview', 'top': [{'key': 'R...   \n",
       "3  {'heading': 'Car overview', 'top': [{'key': 'R...   \n",
       "4  {'heading': 'Car overview', 'top': [{'key': 'R...   \n",
       "\n",
       "                                     new_car_feature  \\\n",
       "0  {'heading': 'Features', 'top': [{'value': 'Pow...   \n",
       "1  {'heading': 'Features', 'top': [{'value': 'Pow...   \n",
       "2  {'heading': 'Features', 'top': [{'value': 'Pow...   \n",
       "3  {'heading': 'Features', 'top': [{'value': 'Pow...   \n",
       "4  {'heading': 'Features', 'top': [{'value': 'Pow...   \n",
       "\n",
       "                                       new_car_specs  \\\n",
       "0  {'heading': 'Specifications', 'top': [{'key': ...   \n",
       "1  {'heading': 'Specifications', 'top': [{'key': ...   \n",
       "2  {'heading': 'Specifications', 'top': [{'key': ...   \n",
       "3  {'heading': 'Specifications', 'top': [{'key': ...   \n",
       "4  {'heading': 'Specifications', 'top': [{'key': ...   \n",
       "\n",
       "                                           car_links  \n",
       "0  https://www.cardekho.com/used-car-details/used...  \n",
       "1  https://www.cardekho.com/buy-used-car-details/...  \n",
       "2  https://www.cardekho.com/used-car-details/used...  \n",
       "3  https://www.cardekho.com/buy-used-car-details/...  \n",
       "4  https://www.cardekho.com/used-car-details/used...  "
      ]
     },
     "execution_count": 3,
     "metadata": {},
     "output_type": "execute_result"
    }
   ],
   "source": [
    "df = pd.concat(excl_list, ignore_index=True)\n",
    "df.head()"
   ]
  },
  {
   "cell_type": "code",
   "execution_count": 4,
   "metadata": {},
   "outputs": [],
   "source": [
    "data1= df['new_car_detail']\n",
    "data2 = df['new_car_overview']\n",
    "data3 = df['new_car_feature']\n",
    "data4 = df['new_car_specs']"
   ]
  },
  {
   "cell_type": "markdown",
   "metadata": {},
   "source": [
    "# Car Details"
   ]
  },
  {
   "cell_type": "code",
   "execution_count": 5,
   "metadata": {},
   "outputs": [],
   "source": [
    "import ast\n",
    "dict_list = []\n",
    "for i in data1:\n",
    "    res = ast.literal_eval(i)\n",
    "    dict_list.append(res)"
   ]
  },
  {
   "cell_type": "code",
   "execution_count": 6,
   "metadata": {},
   "outputs": [
    {
     "data": {
      "text/html": [
       "<div>\n",
       "<style scoped>\n",
       "    .dataframe tbody tr th:only-of-type {\n",
       "        vertical-align: middle;\n",
       "    }\n",
       "\n",
       "    .dataframe tbody tr th {\n",
       "        vertical-align: top;\n",
       "    }\n",
       "\n",
       "    .dataframe thead th {\n",
       "        text-align: right;\n",
       "    }\n",
       "</style>\n",
       "<table border=\"1\" class=\"dataframe\">\n",
       "  <thead>\n",
       "    <tr style=\"text-align: right;\">\n",
       "      <th></th>\n",
       "      <th>ignition_type</th>\n",
       "      <th>Fuel Type</th>\n",
       "      <th>body_type</th>\n",
       "      <th>kms_driven</th>\n",
       "      <th>transmission_type</th>\n",
       "      <th>ownerNo</th>\n",
       "      <th>owner</th>\n",
       "      <th>manufacturer</th>\n",
       "      <th>model</th>\n",
       "      <th>year_of_manufac</th>\n",
       "      <th>variantName</th>\n",
       "      <th>centralVariantId</th>\n",
       "      <th>price</th>\n",
       "      <th>priceActual</th>\n",
       "      <th>priceSaving</th>\n",
       "      <th>priceFixedText</th>\n",
       "    </tr>\n",
       "  </thead>\n",
       "  <tbody>\n",
       "    <tr>\n",
       "      <th>0</th>\n",
       "      <td>0</td>\n",
       "      <td>Petrol</td>\n",
       "      <td>Hatchback</td>\n",
       "      <td>1,20,000</td>\n",
       "      <td>Manual</td>\n",
       "      <td>3</td>\n",
       "      <td>3rd Owner</td>\n",
       "      <td>Maruti</td>\n",
       "      <td>Maruti Celerio</td>\n",
       "      <td>2015</td>\n",
       "      <td>VXI</td>\n",
       "      <td>3979</td>\n",
       "      <td>₹ 4 Lakh</td>\n",
       "      <td></td>\n",
       "      <td></td>\n",
       "      <td>None</td>\n",
       "    </tr>\n",
       "    <tr>\n",
       "      <th>1</th>\n",
       "      <td>0</td>\n",
       "      <td>Petrol</td>\n",
       "      <td>SUV</td>\n",
       "      <td>32,706</td>\n",
       "      <td>Manual</td>\n",
       "      <td>2</td>\n",
       "      <td>2nd Owner</td>\n",
       "      <td>Ford</td>\n",
       "      <td>Ford Ecosport</td>\n",
       "      <td>2018</td>\n",
       "      <td>1.5 Petrol Titanium BSIV</td>\n",
       "      <td>6087</td>\n",
       "      <td>₹ 8.11 Lakh</td>\n",
       "      <td></td>\n",
       "      <td></td>\n",
       "      <td>None</td>\n",
       "    </tr>\n",
       "    <tr>\n",
       "      <th>2</th>\n",
       "      <td>0</td>\n",
       "      <td>Petrol</td>\n",
       "      <td>Hatchback</td>\n",
       "      <td>11,949</td>\n",
       "      <td>Manual</td>\n",
       "      <td>1</td>\n",
       "      <td>1st Owner</td>\n",
       "      <td>Tata</td>\n",
       "      <td>Tata Tiago</td>\n",
       "      <td>2018</td>\n",
       "      <td>1.2 Revotron XZ</td>\n",
       "      <td>2983</td>\n",
       "      <td>₹ 5.85 Lakh</td>\n",
       "      <td></td>\n",
       "      <td></td>\n",
       "      <td>None</td>\n",
       "    </tr>\n",
       "    <tr>\n",
       "      <th>3</th>\n",
       "      <td>0</td>\n",
       "      <td>Petrol</td>\n",
       "      <td>Sedan</td>\n",
       "      <td>17,794</td>\n",
       "      <td>Manual</td>\n",
       "      <td>1</td>\n",
       "      <td>1st Owner</td>\n",
       "      <td>Hyundai</td>\n",
       "      <td>Hyundai Xcent</td>\n",
       "      <td>2014</td>\n",
       "      <td>1.2 Kappa S Option</td>\n",
       "      <td>1867</td>\n",
       "      <td>₹ 4.62 Lakh</td>\n",
       "      <td></td>\n",
       "      <td></td>\n",
       "      <td>None</td>\n",
       "    </tr>\n",
       "    <tr>\n",
       "      <th>4</th>\n",
       "      <td>0</td>\n",
       "      <td>Diesel</td>\n",
       "      <td>SUV</td>\n",
       "      <td>60,000</td>\n",
       "      <td>Manual</td>\n",
       "      <td>1</td>\n",
       "      <td>1st Owner</td>\n",
       "      <td>Maruti</td>\n",
       "      <td>Maruti SX4 S Cross</td>\n",
       "      <td>2015</td>\n",
       "      <td>DDiS 200 Zeta</td>\n",
       "      <td>4277</td>\n",
       "      <td>₹ 7.90 Lakh</td>\n",
       "      <td></td>\n",
       "      <td></td>\n",
       "      <td>None</td>\n",
       "    </tr>\n",
       "  </tbody>\n",
       "</table>\n",
       "</div>"
      ],
      "text/plain": [
       "   ignition_type Fuel Type  body_type kms_driven transmission_type  ownerNo  \\\n",
       "0              0    Petrol  Hatchback   1,20,000            Manual        3   \n",
       "1              0    Petrol        SUV     32,706            Manual        2   \n",
       "2              0    Petrol  Hatchback     11,949            Manual        1   \n",
       "3              0    Petrol      Sedan     17,794            Manual        1   \n",
       "4              0    Diesel        SUV     60,000            Manual        1   \n",
       "\n",
       "       owner manufacturer               model  year_of_manufac  \\\n",
       "0  3rd Owner       Maruti      Maruti Celerio             2015   \n",
       "1  2nd Owner         Ford       Ford Ecosport             2018   \n",
       "2  1st Owner         Tata          Tata Tiago             2018   \n",
       "3  1st Owner      Hyundai       Hyundai Xcent             2014   \n",
       "4  1st Owner       Maruti  Maruti SX4 S Cross             2015   \n",
       "\n",
       "                variantName  centralVariantId        price priceActual  \\\n",
       "0                       VXI              3979     ₹ 4 Lakh               \n",
       "1  1.5 Petrol Titanium BSIV              6087  ₹ 8.11 Lakh               \n",
       "2           1.2 Revotron XZ              2983  ₹ 5.85 Lakh               \n",
       "3        1.2 Kappa S Option              1867  ₹ 4.62 Lakh               \n",
       "4             DDiS 200 Zeta              4277  ₹ 7.90 Lakh               \n",
       "\n",
       "  priceSaving priceFixedText  \n",
       "0                       None  \n",
       "1                       None  \n",
       "2                       None  \n",
       "3                       None  \n",
       "4                       None  "
      ]
     },
     "execution_count": 6,
     "metadata": {},
     "output_type": "execute_result"
    }
   ],
   "source": [
    "columns = {'ignition_type': [], 'Fuel Type': [],'body_type': [],'kms_driven': [],'transmission_type': [],'ownerNo': [],'owner': [],'manufacturer':[],\n",
    "           'model': [],'year_of_manufac':[],'variantName':[],'centralVariantId':[],'price':[],'priceActual': [],'priceSaving': [],'priceFixedText': []}\n",
    "for dic in dict_list:\n",
    "    columns['ignition_type'].append(dic['it'])\n",
    "    columns['Fuel Type'].append(dic['ft'])\n",
    "    columns['body_type'].append(dic['bt'])\n",
    "    columns['kms_driven'].append(dic['km'])\n",
    "    columns['transmission_type'].append(dic['transmission'])\n",
    "    columns['ownerNo'].append(dic['ownerNo'])\n",
    "    columns['owner'].append(dic['owner'])\n",
    "    columns['manufacturer'].append(dic['oem'])\n",
    "    columns['model'].append(dic['model'])\n",
    "    columns['year_of_manufac'].append(dic['modelYear'])\n",
    "    columns['variantName'].append(dic['variantName'])\n",
    "    columns['centralVariantId'].append(dic['centralVariantId'])\n",
    "    columns['price'].append(dic['price'])\n",
    "    columns['priceActual'].append(dic['priceActual'])\n",
    "    columns['priceSaving'].append(dic['priceSaving'])\n",
    "    columns['priceFixedText'].append(dic['priceFixedText'])\n",
    "\n",
    "car_details = pd.DataFrame(columns)\n",
    "car_details.head()"
   ]
  },
  {
   "cell_type": "markdown",
   "metadata": {},
   "source": [
    "# New Car Overview"
   ]
  },
  {
   "cell_type": "code",
   "execution_count": 7,
   "metadata": {},
   "outputs": [],
   "source": [
    "dict_list1 = []\n",
    "for i in data2:\n",
    "    res = ast.literal_eval(i)\n",
    "    dict_list1.append(res)"
   ]
  },
  {
   "cell_type": "code",
   "execution_count": 8,
   "metadata": {},
   "outputs": [
    {
     "data": {
      "text/html": [
       "<div>\n",
       "<style scoped>\n",
       "    .dataframe tbody tr th:only-of-type {\n",
       "        vertical-align: middle;\n",
       "    }\n",
       "\n",
       "    .dataframe tbody tr th {\n",
       "        vertical-align: top;\n",
       "    }\n",
       "\n",
       "    .dataframe thead th {\n",
       "        text-align: right;\n",
       "    }\n",
       "</style>\n",
       "<table border=\"1\" class=\"dataframe\">\n",
       "  <thead>\n",
       "    <tr style=\"text-align: right;\">\n",
       "      <th></th>\n",
       "      <th>Insurance Validity</th>\n",
       "      <th>Seats</th>\n",
       "      <th>Engine Displacement(cc)</th>\n",
       "    </tr>\n",
       "  </thead>\n",
       "  <tbody>\n",
       "    <tr>\n",
       "      <th>0</th>\n",
       "      <td>Third Party insurance</td>\n",
       "      <td>5 Seats</td>\n",
       "      <td>998 cc</td>\n",
       "    </tr>\n",
       "    <tr>\n",
       "      <th>1</th>\n",
       "      <td>Comprehensive</td>\n",
       "      <td>5 Seats</td>\n",
       "      <td>1497 cc</td>\n",
       "    </tr>\n",
       "    <tr>\n",
       "      <th>2</th>\n",
       "      <td>Comprehensive</td>\n",
       "      <td>5 Seats</td>\n",
       "      <td>1199 cc</td>\n",
       "    </tr>\n",
       "    <tr>\n",
       "      <th>3</th>\n",
       "      <td>Comprehensive</td>\n",
       "      <td>5 Seats</td>\n",
       "      <td>1197 cc</td>\n",
       "    </tr>\n",
       "    <tr>\n",
       "      <th>4</th>\n",
       "      <td>Third Party insurance</td>\n",
       "      <td>5 Seats</td>\n",
       "      <td>1248 cc</td>\n",
       "    </tr>\n",
       "  </tbody>\n",
       "</table>\n",
       "</div>"
      ],
      "text/plain": [
       "      Insurance Validity    Seats Engine Displacement(cc)\n",
       "0  Third Party insurance  5 Seats                  998 cc\n",
       "1          Comprehensive  5 Seats                 1497 cc\n",
       "2          Comprehensive  5 Seats                 1199 cc\n",
       "3          Comprehensive  5 Seats                 1197 cc\n",
       "4  Third Party insurance  5 Seats                 1248 cc"
      ]
     },
     "execution_count": 8,
     "metadata": {},
     "output_type": "execute_result"
    }
   ],
   "source": [
    "import numpy as np\n",
    "columns = {'Insurance Validity':[],'Seats':[],'Engine Displacement(cc)':[]}\n",
    "\n",
    "for dic in dict_list1:\n",
    "                columns['Insurance Validity'].append(dic['top'][1]['value'])\n",
    "                \n",
    "                if dic['top'][3]['key'] == 'Seats':\n",
    "                    columns['Seats'].append(dic['top'][3]['value'])\n",
    "                else:\n",
    "                      columns['Seats'].append(np.nan)\n",
    "                              \n",
    "                \n",
    "                try:    \n",
    "                    if dic['top'][4]['key']== 'Engine Displacement':\n",
    "                       columns['Engine Displacement(cc)'].append(dic['top'][4]['value'])\n",
    "                    elif dic['top'][5]['key'] == 'Engine Displacement':\n",
    "                        columns['Engine Displacement(cc)'].append(dic['top'][5]['value']) \n",
    "                    elif dic['top'][6]['key']== 'Engine Displacement':\n",
    "                        columns['Engine Displacement(cc)'].append(dic['top'][6]['value'])  \n",
    "                    elif dic['top'][7]['key']== 'Engine Displacement':\n",
    "                        columns['Engine Displacement(cc)'].append(dic['top'][7]['value']) \n",
    "                    else:\n",
    "                      columns['Engine Displacement(cc)'].append(np.nan) \n",
    "                except :\n",
    "                      columns['Engine Displacement(cc)'].append(np.nan)\n",
    "                \n",
    "cars_overview = pd.DataFrame(columns)\n",
    "cars_overview.head()"
   ]
  },
  {
   "cell_type": "markdown",
   "metadata": {},
   "source": [
    "# Car Feature"
   ]
  },
  {
   "cell_type": "code",
   "execution_count": 9,
   "metadata": {},
   "outputs": [
    {
     "data": {
      "text/plain": [
       "{'heading': 'Features',\n",
       " 'top': [{'value': 'Power Steering'},\n",
       "  {'value': 'Power Windows Front'},\n",
       "  {'value': 'Air Conditioner'},\n",
       "  {'value': 'Heater'},\n",
       "  {'value': 'Adjustable Head Lights'},\n",
       "  {'value': 'Manually Adjustable Exterior Rear View Mirror'},\n",
       "  {'value': 'Centeral Locking'},\n",
       "  {'value': 'Child Safety Locks'}],\n",
       " 'data': [{'heading': 'Comfort & Convenience',\n",
       "   'subHeading': 'Comfort',\n",
       "   'list': [{'value': 'Power Steering'},\n",
       "    {'value': 'Power Windows Front'},\n",
       "    {'value': 'Power Windows Rear'},\n",
       "    {'value': 'Remote Trunk Opener'},\n",
       "    {'value': 'Remote Fuel Lid Opener'},\n",
       "    {'value': 'Low Fuel Warning Light'},\n",
       "    {'value': 'Accessory Power Outlet'},\n",
       "    {'value': 'Vanity Mirror'},\n",
       "    {'value': 'Rear Seat Headrest'},\n",
       "    {'value': 'Cup Holders Front'}]},\n",
       "  {'heading': 'Interior',\n",
       "   'subHeading': 'Interior',\n",
       "   'list': [{'value': 'Air Conditioner'},\n",
       "    {'value': 'Heater'},\n",
       "    {'value': 'Digital Odometer'},\n",
       "    {'value': 'Electronic Multi Tripmeter'},\n",
       "    {'value': 'Fabric Upholstery'},\n",
       "    {'value': 'Glove Compartment'},\n",
       "    {'value': 'Digital Clock'}]},\n",
       "  {'heading': 'Exterior',\n",
       "   'subHeading': 'Exterior',\n",
       "   'list': [{'value': 'Adjustable Head Lights'},\n",
       "    {'value': 'Manually Adjustable Exterior Rear View Mirror'},\n",
       "    {'value': 'Wheel Covers'},\n",
       "    {'value': 'Power Antenna'},\n",
       "    {'value': 'Chrome Grille'}]},\n",
       "  {'heading': 'Safety',\n",
       "   'subHeading': 'Safety',\n",
       "   'list': [{'value': 'Centeral Locking'},\n",
       "    {'value': 'Child Safety Locks'},\n",
       "    {'value': 'Day Night Rear View Mirror'},\n",
       "    {'value': 'Passenger Side Rear View Mirror'},\n",
       "    {'value': 'Halogen Headlamps'},\n",
       "    {'value': 'Rear Seat Belts'},\n",
       "    {'value': 'Door Ajar Warning'},\n",
       "    {'value': 'Side Impact Beams'},\n",
       "    {'value': 'Front Impact Beams'},\n",
       "    {'value': 'Adjustable Seats'},\n",
       "    {'value': 'Centrally Mounted Fuel Tank'},\n",
       "    {'value': 'Engine Immobilizer'},\n",
       "    {'value': 'Anti Theft Device'}]}],\n",
       " 'commonIcon': 'https://stimg.cardekho.com/pwa/img/vdpN/tickG.svg'}"
      ]
     },
     "execution_count": 9,
     "metadata": {},
     "output_type": "execute_result"
    }
   ],
   "source": [
    "dict_list2 = []\n",
    "for i in data3:\n",
    "    res = ast.literal_eval(i)\n",
    "    dict_list2.append(res)\n",
    "dict_list2[0]"
   ]
  },
  {
   "cell_type": "markdown",
   "metadata": {},
   "source": [
    "# Car specifications"
   ]
  },
  {
   "cell_type": "code",
   "execution_count": 10,
   "metadata": {},
   "outputs": [],
   "source": [
    "dict_list3 = []\n",
    "for i in data4:\n",
    "    res = ast.literal_eval(i)\n",
    "    dict_list3.append(res)"
   ]
  },
  {
   "cell_type": "code",
   "execution_count": 11,
   "metadata": {},
   "outputs": [],
   "source": [
    "columns = {'mileage(kmpl)':[],'max_power(bhp)':[]}\n",
    "\n",
    "for i,dic in enumerate(dict_list3):\n",
    "        if dic['top'][0]['key'] == 'Mileage':\n",
    "                columns['mileage(kmpl)'].append(dic['top'][0]['value'])\n",
    "        else:\n",
    "                columns['mileage(kmpl)'].append(np.NaN)\n",
    "        try:\n",
    "            if dic['top'][1]['key'] == 'Max Power':\n",
    "                columns['max_power(bhp)'].append(dic['top'][1]['value'])\n",
    "            elif dic['top'][2]['key'] == 'Max Power':\n",
    "                columns['max_power(bhp)'].append(dic['top'][2]['value']) \n",
    "            else:\n",
    "                 columns['max_power(bhp)'].append(np.NaN)  \n",
    "        except:\n",
    "                columns['max_power(bhp)'].append(np.NaN)  \n",
    "car_mil = pd.DataFrame(columns)"
   ]
  },
  {
   "cell_type": "code",
   "execution_count": 12,
   "metadata": {},
   "outputs": [],
   "source": [
    "car_details['mileage(kmpl)'] = car_mil['mileage(kmpl)']\n",
    "car_details['max_power(bhp)'] = car_mil['max_power(bhp)']\n",
    "car_details['Seats'] = cars_overview['Seats']\n",
    "car_details['Insurance Validity'] = cars_overview['Insurance Validity']\n",
    "car_details['Seats'] = cars_overview['Seats']\n",
    "car_details['Engine Displacement(cc)'] = cars_overview['Engine Displacement(cc)']"
   ]
  },
  {
   "cell_type": "code",
   "execution_count": 13,
   "metadata": {},
   "outputs": [
    {
     "name": "stdout",
     "output_type": "stream",
     "text": [
      "<class 'pandas.core.frame.DataFrame'>\n",
      "RangeIndex: 8369 entries, 0 to 8368\n",
      "Data columns (total 21 columns):\n",
      " #   Column                   Non-Null Count  Dtype \n",
      "---  ------                   --------------  ----- \n",
      " 0   ignition_type            8369 non-null   int64 \n",
      " 1   Fuel Type                8369 non-null   object\n",
      " 2   body_type                8369 non-null   object\n",
      " 3   kms_driven               8369 non-null   object\n",
      " 4   transmission_type        8369 non-null   object\n",
      " 5   ownerNo                  8369 non-null   int64 \n",
      " 6   owner                    8369 non-null   object\n",
      " 7   manufacturer             8369 non-null   object\n",
      " 8   model                    8369 non-null   object\n",
      " 9   year_of_manufac          8369 non-null   int64 \n",
      " 10  variantName              8369 non-null   object\n",
      " 11  centralVariantId         8369 non-null   int64 \n",
      " 12  price                    8369 non-null   object\n",
      " 13  priceActual              8369 non-null   object\n",
      " 14  priceSaving              8369 non-null   object\n",
      " 15  priceFixedText           0 non-null      object\n",
      " 16  mileage(kmpl)            8082 non-null   object\n",
      " 17  max_power(bhp)           8309 non-null   object\n",
      " 18  Seats                    8307 non-null   object\n",
      " 19  Insurance Validity       8369 non-null   object\n",
      " 20  Engine Displacement(cc)  8365 non-null   object\n",
      "dtypes: int64(4), object(17)\n",
      "memory usage: 1.3+ MB\n"
     ]
    }
   ],
   "source": [
    "car_details.info()"
   ]
  },
  {
   "cell_type": "markdown",
   "metadata": {},
   "source": [
    "#### Checking for the null columns "
   ]
  },
  {
   "cell_type": "code",
   "execution_count": 14,
   "metadata": {},
   "outputs": [
    {
     "data": {
      "text/plain": [
       "ignition_type                 0\n",
       "Fuel Type                     0\n",
       "body_type                     0\n",
       "kms_driven                    0\n",
       "transmission_type             0\n",
       "ownerNo                       0\n",
       "owner                         0\n",
       "manufacturer                  0\n",
       "model                         0\n",
       "year_of_manufac               0\n",
       "variantName                   0\n",
       "centralVariantId              0\n",
       "price                         0\n",
       "priceActual                   0\n",
       "priceSaving                   0\n",
       "priceFixedText             8369\n",
       "mileage(kmpl)               287\n",
       "max_power(bhp)               60\n",
       "Seats                        62\n",
       "Insurance Validity            0\n",
       "Engine Displacement(cc)       4\n",
       "dtype: int64"
      ]
     },
     "execution_count": 14,
     "metadata": {},
     "output_type": "execute_result"
    }
   ],
   "source": [
    "car_details.isnull().sum()"
   ]
  },
  {
   "cell_type": "markdown",
   "metadata": {},
   "source": [
    "#### Dropping unwanted columns and duplicates"
   ]
  },
  {
   "cell_type": "code",
   "execution_count": 15,
   "metadata": {},
   "outputs": [],
   "source": [
    "car_details.drop(columns=['ignition_type','priceFixedText','priceSaving','owner','priceActual','centralVariantId','variantName'],inplace=True)"
   ]
  },
  {
   "cell_type": "code",
   "execution_count": 16,
   "metadata": {},
   "outputs": [
    {
     "data": {
      "text/plain": [
       "129"
      ]
     },
     "execution_count": 16,
     "metadata": {},
     "output_type": "execute_result"
    }
   ],
   "source": [
    "car_details.duplicated().sum()"
   ]
  },
  {
   "cell_type": "code",
   "execution_count": 17,
   "metadata": {},
   "outputs": [],
   "source": [
    "car_details.drop_duplicates(inplace=True)"
   ]
  },
  {
   "cell_type": "code",
   "execution_count": 18,
   "metadata": {},
   "outputs": [
    {
     "data": {
      "text/html": [
       "<div>\n",
       "<style scoped>\n",
       "    .dataframe tbody tr th:only-of-type {\n",
       "        vertical-align: middle;\n",
       "    }\n",
       "\n",
       "    .dataframe tbody tr th {\n",
       "        vertical-align: top;\n",
       "    }\n",
       "\n",
       "    .dataframe thead th {\n",
       "        text-align: right;\n",
       "    }\n",
       "</style>\n",
       "<table border=\"1\" class=\"dataframe\">\n",
       "  <thead>\n",
       "    <tr style=\"text-align: right;\">\n",
       "      <th></th>\n",
       "      <th>Fuel Type</th>\n",
       "      <th>body_type</th>\n",
       "      <th>kms_driven</th>\n",
       "      <th>transmission_type</th>\n",
       "      <th>ownerNo</th>\n",
       "      <th>manufacturer</th>\n",
       "      <th>model</th>\n",
       "      <th>year_of_manufac</th>\n",
       "      <th>price</th>\n",
       "      <th>mileage(kmpl)</th>\n",
       "      <th>max_power(bhp)</th>\n",
       "      <th>Seats</th>\n",
       "      <th>Insurance Validity</th>\n",
       "      <th>Engine Displacement(cc)</th>\n",
       "    </tr>\n",
       "  </thead>\n",
       "  <tbody>\n",
       "    <tr>\n",
       "      <th>16</th>\n",
       "      <td>Diesel</td>\n",
       "      <td>SUV</td>\n",
       "      <td>16,000</td>\n",
       "      <td>Automatic</td>\n",
       "      <td>1</td>\n",
       "      <td>Mercedes-Benz</td>\n",
       "      <td>Mercedes-Benz GLA</td>\n",
       "      <td>2022</td>\n",
       "      <td>₹ 55.95 Lakh</td>\n",
       "      <td>NaN</td>\n",
       "      <td>187.74bhp</td>\n",
       "      <td>5 Seats</td>\n",
       "      <td>Comprehensive</td>\n",
       "      <td>1950 cc</td>\n",
       "    </tr>\n",
       "    <tr>\n",
       "      <th>52</th>\n",
       "      <td>Diesel</td>\n",
       "      <td>Sedan</td>\n",
       "      <td>400</td>\n",
       "      <td>Automatic</td>\n",
       "      <td>1</td>\n",
       "      <td>Mercedes-Benz</td>\n",
       "      <td>Mercedes-Benz E-Class</td>\n",
       "      <td>2022</td>\n",
       "      <td>₹ 79.90 Lakh</td>\n",
       "      <td>NaN</td>\n",
       "      <td>281.61bhp</td>\n",
       "      <td>5 Seats</td>\n",
       "      <td>Third Party</td>\n",
       "      <td>2925 cc</td>\n",
       "    </tr>\n",
       "    <tr>\n",
       "      <th>105</th>\n",
       "      <td>Petrol</td>\n",
       "      <td>Hatchback</td>\n",
       "      <td>64,374</td>\n",
       "      <td>Automatic</td>\n",
       "      <td>1</td>\n",
       "      <td>Honda</td>\n",
       "      <td>Honda Jazz</td>\n",
       "      <td>2018</td>\n",
       "      <td>₹ 7.55 Lakh</td>\n",
       "      <td>19 kmpl</td>\n",
       "      <td>88.7bhp</td>\n",
       "      <td>NaN</td>\n",
       "      <td>Petrol</td>\n",
       "      <td>1199 cc</td>\n",
       "    </tr>\n",
       "    <tr>\n",
       "      <th>111</th>\n",
       "      <td>Petrol</td>\n",
       "      <td>SUV</td>\n",
       "      <td>26,500</td>\n",
       "      <td>Automatic</td>\n",
       "      <td>2</td>\n",
       "      <td>Hyundai</td>\n",
       "      <td>Hyundai Creta</td>\n",
       "      <td>2021</td>\n",
       "      <td>₹ 16.75 Lakh</td>\n",
       "      <td>NaN</td>\n",
       "      <td>138.12bhp</td>\n",
       "      <td>5 Seats</td>\n",
       "      <td>Comprehensive</td>\n",
       "      <td>1397 cc</td>\n",
       "    </tr>\n",
       "    <tr>\n",
       "      <th>120</th>\n",
       "      <td>Diesel</td>\n",
       "      <td>Sedan</td>\n",
       "      <td>36,349</td>\n",
       "      <td>Automatic</td>\n",
       "      <td>1</td>\n",
       "      <td>Skoda</td>\n",
       "      <td>Skoda Superb</td>\n",
       "      <td>2014</td>\n",
       "      <td>₹ 16.50 Lakh</td>\n",
       "      <td>17.2 kmpl</td>\n",
       "      <td>138.1bhp</td>\n",
       "      <td>NaN</td>\n",
       "      <td>Diesel</td>\n",
       "      <td>1968 cc</td>\n",
       "    </tr>\n",
       "  </tbody>\n",
       "</table>\n",
       "</div>"
      ],
      "text/plain": [
       "    Fuel Type  body_type kms_driven transmission_type  ownerNo   manufacturer  \\\n",
       "16     Diesel        SUV     16,000         Automatic        1  Mercedes-Benz   \n",
       "52     Diesel      Sedan        400         Automatic        1  Mercedes-Benz   \n",
       "105    Petrol  Hatchback     64,374         Automatic        1          Honda   \n",
       "111    Petrol        SUV     26,500         Automatic        2        Hyundai   \n",
       "120    Diesel      Sedan     36,349         Automatic        1          Skoda   \n",
       "\n",
       "                     model  year_of_manufac         price mileage(kmpl)  \\\n",
       "16       Mercedes-Benz GLA             2022  ₹ 55.95 Lakh           NaN   \n",
       "52   Mercedes-Benz E-Class             2022  ₹ 79.90 Lakh           NaN   \n",
       "105             Honda Jazz             2018   ₹ 7.55 Lakh       19 kmpl   \n",
       "111          Hyundai Creta             2021  ₹ 16.75 Lakh           NaN   \n",
       "120           Skoda Superb             2014  ₹ 16.50 Lakh     17.2 kmpl   \n",
       "\n",
       "    max_power(bhp)    Seats Insurance Validity Engine Displacement(cc)  \n",
       "16       187.74bhp  5 Seats      Comprehensive                 1950 cc  \n",
       "52       281.61bhp  5 Seats        Third Party                 2925 cc  \n",
       "105        88.7bhp      NaN             Petrol                 1199 cc  \n",
       "111      138.12bhp  5 Seats      Comprehensive                 1397 cc  \n",
       "120       138.1bhp      NaN             Diesel                 1968 cc  "
      ]
     },
     "execution_count": 18,
     "metadata": {},
     "output_type": "execute_result"
    }
   ],
   "source": [
    "null_mask = car_details.isnull().any(axis=1)\n",
    "car_details[null_mask].head() # rows with null values"
   ]
  },
  {
   "cell_type": "markdown",
   "metadata": {},
   "source": [
    "# Handling the missing values"
   ]
  },
  {
   "cell_type": "code",
   "execution_count": 19,
   "metadata": {},
   "outputs": [],
   "source": [
    "car_details['Seats'].fillna('5 Seats',inplace=True)"
   ]
  },
  {
   "cell_type": "code",
   "execution_count": 20,
   "metadata": {},
   "outputs": [],
   "source": [
    "car_details.loc[car_details['model'] == 'Maruti Gypsy', 'Seats'] = '8 Seats'\n",
    "car_details.loc[car_details['model'] == 'MG Gloster', 'Seats'] = '6 Seats'\n",
    "car_details.loc[car_details['model'] == 'Maruti 800', 'Seats'] = '4 Seats'\n",
    "car_details.loc[car_details['model'] == 'Mahindra e2o Plus', 'Seats'] = '4 Seats'\n",
    "car_details.loc[car_details['model'] == 'Maruti Omni', 'Seats'] = '8 Seats'\n",
    "car_details.loc[car_details['model'] == 'Toyota Qualis', 'Seats'] = '8 Seats'\n",
    "car_details.loc[car_details['model'] == 'Ford Endeavour', 'Seats'] = '7 Seats'\n",
    "car_details.loc[car_details['model'] == 'Mahindra XUV700', 'Seats'] = '7 Seats'\n",
    "\n",
    "car_details.loc[car_details['model'] == 'Maruti Gypsy', 'Engine Displacement(cc)'] = '1298 cc'\n",
    "car_details.loc[car_details['model'] == 'Mahindra e2o Plus', 'Engine Displacement(cc)'] = '72 cc'\n",
    "car_details.loc[car_details['model'] == 'Mercedes-Benz C-Class', 'Engine Displacement(cc)'] = '1496 cc'"
   ]
  },
  {
   "cell_type": "code",
   "execution_count": 21,
   "metadata": {},
   "outputs": [
    {
     "data": {
      "text/plain": [
       "Fuel Type                    0\n",
       "body_type                    0\n",
       "kms_driven                   0\n",
       "transmission_type            0\n",
       "ownerNo                      0\n",
       "manufacturer                 0\n",
       "model                        0\n",
       "year_of_manufac              0\n",
       "price                        0\n",
       "mileage(kmpl)              282\n",
       "max_power(bhp)              59\n",
       "Seats                        0\n",
       "Insurance Validity           0\n",
       "Engine Displacement(cc)      0\n",
       "dtype: int64"
      ]
     },
     "execution_count": 21,
     "metadata": {},
     "output_type": "execute_result"
    }
   ],
   "source": [
    "car_details.isnull().sum()"
   ]
  },
  {
   "cell_type": "code",
   "execution_count": 22,
   "metadata": {},
   "outputs": [],
   "source": [
    "car_details.dropna(inplace=True) #dropping null values"
   ]
  },
  {
   "cell_type": "code",
   "execution_count": 23,
   "metadata": {},
   "outputs": [
    {
     "data": {
      "text/plain": [
       "(7920, 14)"
      ]
     },
     "execution_count": 23,
     "metadata": {},
     "output_type": "execute_result"
    }
   ],
   "source": [
    "car_details.shape"
   ]
  },
  {
   "cell_type": "markdown",
   "metadata": {},
   "source": [
    "#### Formatting the columns"
   ]
  },
  {
   "cell_type": "markdown",
   "metadata": {},
   "source": [
    "1. Max power"
   ]
  },
  {
   "cell_type": "code",
   "execution_count": 23,
   "metadata": {},
   "outputs": [],
   "source": [
    "import re\n",
    "def num(x):\n",
    "        y = x.lower()\n",
    "        try:\n",
    "                if 'ps' in y:\n",
    "                    match1 = y.split(re.findall(r\"\\bps|ps\\b\", y)[0])\n",
    "                    val = float(match1[0].strip())\n",
    "                    res = val/1.014\n",
    "                    return round(res,2)\n",
    "                \n",
    "                elif 'bhp' in y:\n",
    "                    match2 = y.split(re.findall(r\"\\bbhp|bhp\\b\", y)[0])\n",
    "                    res = float(match2[0].strip())\n",
    "                    return res\n",
    "                \n",
    "                elif 'kw' in y:\n",
    "                    match3 = y.split(re.findall(r\"\\bkw|kw\\b\", y)[0])\n",
    "                    val = float(match3[0].strip())\n",
    "                    res = val * 1.341\n",
    "                    return res\n",
    "                \n",
    "                elif 'hp' in y:\n",
    "                    match4 = y.split(re.findall(r\"\\bhp|hp\\b\", y)[0])\n",
    "                    res = float(match4[0].strip())\n",
    "                    return res\n",
    "                \n",
    "                elif \"(\" in y:\n",
    "                    match5 = re.findall('[(][0-9][0-9]',y)[0]\n",
    "                    res = float(match5[1:])\n",
    "                    return res\n",
    "            \n",
    "                else:\n",
    "                    res = float(y.strip())\n",
    "                    return res\n",
    "        except:\n",
    "             pass\n",
    "  \n",
    "car_details['max_power(bhp)'] = car_details['max_power(bhp)'].apply(num)"
   ]
  },
  {
   "cell_type": "markdown",
   "metadata": {},
   "source": [
    "2. Seats, Engine Displacement, Price"
   ]
  },
  {
   "cell_type": "code",
   "execution_count": 24,
   "metadata": {},
   "outputs": [],
   "source": [
    "def num_strip(x):\n",
    "    res = int(re.findall(r'\\d+',str(x))[0])\n",
    "    return res\n",
    "def num_strip2(x):\n",
    "     res = x.strip('₹').strip()\n",
    "     return res\n",
    "\n",
    "car_details['Seats'] = car_details['Seats'].apply(num_strip)\n",
    "car_details['Engine Displacement(cc)']= car_details['Engine Displacement(cc)'].apply(num_strip)\n",
    "car_details['price']=car_details['price'].apply(num_strip2)"
   ]
  },
  {
   "cell_type": "code",
   "execution_count": 25,
   "metadata": {},
   "outputs": [],
   "source": [
    "car_details.loc[car_details['Engine Displacement(cc)']==0,'Engine Displacement(cc)'] =1197\n",
    "car_details.loc[car_details['model']=='Maruti Eeco','body_type'] = 'Minivans'\n",
    "car_details['kms_driven']=car_details['kms_driven'].str.replace(',','').astype(int)"
   ]
  },
  {
   "cell_type": "markdown",
   "metadata": {},
   "source": [
    "##### Converting price and mileage columns to numerical "
   ]
  },
  {
   "cell_type": "code",
   "execution_count": 26,
   "metadata": {},
   "outputs": [],
   "source": [
    "def price_conv(x):\n",
    "    match = re.search('Lakh$',x)\n",
    "    match2 = re.search('Crore$',x)\n",
    "    match3 = re.search('^[0-9][0-9],000$',x)\n",
    "    if match:\n",
    "        res = float(x.rstrip('Lakh'))*100000\n",
    "        return res\n",
    "    elif match2:\n",
    "        res1 = float(x.rstrip('Crore'))*10000000\n",
    "        return res1\n",
    "    elif match3:\n",
    "        res2 = x.replace(',','')\n",
    "        return res2\n",
    "car_details['price']=car_details['price'].apply(price_conv)\n",
    "car_details['price'] = round(car_details['price'].astype(float),2)"
   ]
  },
  {
   "cell_type": "code",
   "execution_count": 27,
   "metadata": {},
   "outputs": [],
   "source": [
    "def mileage_conv(x):\n",
    "    match = re.search('kmpl$',x)\n",
    "    if match:\n",
    "        res = float(x.rstrip('kmpl'))\n",
    "        return res\n",
    "car_details['mileage(kmpl)'] = car_details['mileage(kmpl)'].apply(mileage_conv)"
   ]
  },
  {
   "cell_type": "markdown",
   "metadata": {},
   "source": [
    "##### Calculating the cars' Age and dropping the manufactured year"
   ]
  },
  {
   "cell_type": "code",
   "execution_count": 28,
   "metadata": {},
   "outputs": [],
   "source": [
    "def age(x):\n",
    "    car_age = 2024 - x\n",
    "    return car_age\n",
    "car_details['Car_Age'] = car_details['year_of_manufac'].apply(age)"
   ]
  },
  {
   "cell_type": "code",
   "execution_count": 29,
   "metadata": {},
   "outputs": [],
   "source": [
    "car_details.drop(['year_of_manufac'],axis=1,inplace=True)\n",
    "car_details.dropna(inplace=True)"
   ]
  },
  {
   "cell_type": "code",
   "execution_count": 30,
   "metadata": {},
   "outputs": [
    {
     "data": {
      "text/html": [
       "<div>\n",
       "<style scoped>\n",
       "    .dataframe tbody tr th:only-of-type {\n",
       "        vertical-align: middle;\n",
       "    }\n",
       "\n",
       "    .dataframe tbody tr th {\n",
       "        vertical-align: top;\n",
       "    }\n",
       "\n",
       "    .dataframe thead th {\n",
       "        text-align: right;\n",
       "    }\n",
       "</style>\n",
       "<table border=\"1\" class=\"dataframe\">\n",
       "  <thead>\n",
       "    <tr style=\"text-align: right;\">\n",
       "      <th></th>\n",
       "      <th>Fuel Type</th>\n",
       "      <th>body_type</th>\n",
       "      <th>kms_driven</th>\n",
       "      <th>transmission_type</th>\n",
       "      <th>ownerNo</th>\n",
       "      <th>manufacturer</th>\n",
       "      <th>model</th>\n",
       "      <th>price</th>\n",
       "      <th>mileage(kmpl)</th>\n",
       "      <th>max_power(bhp)</th>\n",
       "      <th>Seats</th>\n",
       "      <th>Insurance Validity</th>\n",
       "      <th>Engine Displacement(cc)</th>\n",
       "      <th>Car_Age</th>\n",
       "    </tr>\n",
       "  </thead>\n",
       "  <tbody>\n",
       "    <tr>\n",
       "      <th>0</th>\n",
       "      <td>Petrol</td>\n",
       "      <td>Hatchback</td>\n",
       "      <td>120000</td>\n",
       "      <td>Manual</td>\n",
       "      <td>3</td>\n",
       "      <td>Maruti</td>\n",
       "      <td>Maruti Celerio</td>\n",
       "      <td>400000.0</td>\n",
       "      <td>23.10</td>\n",
       "      <td>67.04</td>\n",
       "      <td>5</td>\n",
       "      <td>Third Party insurance</td>\n",
       "      <td>998</td>\n",
       "      <td>9</td>\n",
       "    </tr>\n",
       "    <tr>\n",
       "      <th>1</th>\n",
       "      <td>Petrol</td>\n",
       "      <td>SUV</td>\n",
       "      <td>32706</td>\n",
       "      <td>Manual</td>\n",
       "      <td>2</td>\n",
       "      <td>Ford</td>\n",
       "      <td>Ford Ecosport</td>\n",
       "      <td>811000.0</td>\n",
       "      <td>17.00</td>\n",
       "      <td>121.31</td>\n",
       "      <td>5</td>\n",
       "      <td>Comprehensive</td>\n",
       "      <td>1497</td>\n",
       "      <td>6</td>\n",
       "    </tr>\n",
       "    <tr>\n",
       "      <th>2</th>\n",
       "      <td>Petrol</td>\n",
       "      <td>Hatchback</td>\n",
       "      <td>11949</td>\n",
       "      <td>Manual</td>\n",
       "      <td>1</td>\n",
       "      <td>Tata</td>\n",
       "      <td>Tata Tiago</td>\n",
       "      <td>585000.0</td>\n",
       "      <td>23.84</td>\n",
       "      <td>84.00</td>\n",
       "      <td>5</td>\n",
       "      <td>Comprehensive</td>\n",
       "      <td>1199</td>\n",
       "      <td>6</td>\n",
       "    </tr>\n",
       "    <tr>\n",
       "      <th>3</th>\n",
       "      <td>Petrol</td>\n",
       "      <td>Sedan</td>\n",
       "      <td>17794</td>\n",
       "      <td>Manual</td>\n",
       "      <td>1</td>\n",
       "      <td>Hyundai</td>\n",
       "      <td>Hyundai Xcent</td>\n",
       "      <td>462000.0</td>\n",
       "      <td>19.10</td>\n",
       "      <td>81.86</td>\n",
       "      <td>5</td>\n",
       "      <td>Comprehensive</td>\n",
       "      <td>1197</td>\n",
       "      <td>10</td>\n",
       "    </tr>\n",
       "    <tr>\n",
       "      <th>4</th>\n",
       "      <td>Diesel</td>\n",
       "      <td>SUV</td>\n",
       "      <td>60000</td>\n",
       "      <td>Manual</td>\n",
       "      <td>1</td>\n",
       "      <td>Maruti</td>\n",
       "      <td>Maruti SX4 S Cross</td>\n",
       "      <td>790000.0</td>\n",
       "      <td>23.65</td>\n",
       "      <td>88.50</td>\n",
       "      <td>5</td>\n",
       "      <td>Third Party insurance</td>\n",
       "      <td>1248</td>\n",
       "      <td>9</td>\n",
       "    </tr>\n",
       "  </tbody>\n",
       "</table>\n",
       "</div>"
      ],
      "text/plain": [
       "  Fuel Type  body_type  kms_driven transmission_type  ownerNo manufacturer  \\\n",
       "0    Petrol  Hatchback      120000            Manual        3       Maruti   \n",
       "1    Petrol        SUV       32706            Manual        2         Ford   \n",
       "2    Petrol  Hatchback       11949            Manual        1         Tata   \n",
       "3    Petrol      Sedan       17794            Manual        1      Hyundai   \n",
       "4    Diesel        SUV       60000            Manual        1       Maruti   \n",
       "\n",
       "                model     price  mileage(kmpl)  max_power(bhp)  Seats  \\\n",
       "0      Maruti Celerio  400000.0          23.10           67.04      5   \n",
       "1       Ford Ecosport  811000.0          17.00          121.31      5   \n",
       "2          Tata Tiago  585000.0          23.84           84.00      5   \n",
       "3       Hyundai Xcent  462000.0          19.10           81.86      5   \n",
       "4  Maruti SX4 S Cross  790000.0          23.65           88.50      5   \n",
       "\n",
       "      Insurance Validity  Engine Displacement(cc)  Car_Age  \n",
       "0  Third Party insurance                      998        9  \n",
       "1          Comprehensive                     1497        6  \n",
       "2          Comprehensive                     1199        6  \n",
       "3          Comprehensive                     1197       10  \n",
       "4  Third Party insurance                     1248        9  "
      ]
     },
     "execution_count": 30,
     "metadata": {},
     "output_type": "execute_result"
    }
   ],
   "source": [
    "car_details.head()"
   ]
  },
  {
   "cell_type": "code",
   "execution_count": 31,
   "metadata": {},
   "outputs": [
    {
     "data": {
      "text/plain": [
       "Fuel Type                  0\n",
       "body_type                  0\n",
       "kms_driven                 0\n",
       "transmission_type          0\n",
       "ownerNo                    0\n",
       "manufacturer               0\n",
       "model                      0\n",
       "price                      0\n",
       "mileage(kmpl)              0\n",
       "max_power(bhp)             0\n",
       "Seats                      0\n",
       "Insurance Validity         0\n",
       "Engine Displacement(cc)    0\n",
       "Car_Age                    0\n",
       "dtype: int64"
      ]
     },
     "execution_count": 31,
     "metadata": {},
     "output_type": "execute_result"
    }
   ],
   "source": [
    "car_details.isnull().sum()"
   ]
  },
  {
   "cell_type": "code",
   "execution_count": 32,
   "metadata": {},
   "outputs": [],
   "source": [
    "car_details.to_csv('cars_dekho.csv',index=False)"
   ]
  },
  {
   "cell_type": "markdown",
   "metadata": {},
   "source": [
    "# Encoding the columns"
   ]
  },
  {
   "cell_type": "code",
   "execution_count": 33,
   "metadata": {},
   "outputs": [],
   "source": [
    "from sklearn.preprocessing import LabelEncoder\n",
    "le = LabelEncoder()"
   ]
  },
  {
   "cell_type": "code",
   "execution_count": 34,
   "metadata": {},
   "outputs": [],
   "source": [
    "car_details['Fuel Type'] = le.fit_transform(car_details['Fuel Type'])\n",
    "car_details['body_type'] = le.fit_transform(car_details['body_type'])\n",
    "car_details['transmission_type'] = le.fit_transform(car_details['transmission_type'])\n",
    "car_details['manufacturer'] = le.fit_transform(car_details['manufacturer'])\n",
    "car_details['model'] = le.fit_transform(car_details['model'])\n",
    "car_details['Insurance Validity'] = le.fit_transform(car_details['Insurance Validity'])"
   ]
  },
  {
   "cell_type": "code",
   "execution_count": 35,
   "metadata": {},
   "outputs": [
    {
     "data": {
      "text/html": [
       "<div>\n",
       "<style scoped>\n",
       "    .dataframe tbody tr th:only-of-type {\n",
       "        vertical-align: middle;\n",
       "    }\n",
       "\n",
       "    .dataframe tbody tr th {\n",
       "        vertical-align: top;\n",
       "    }\n",
       "\n",
       "    .dataframe thead th {\n",
       "        text-align: right;\n",
       "    }\n",
       "</style>\n",
       "<table border=\"1\" class=\"dataframe\">\n",
       "  <thead>\n",
       "    <tr style=\"text-align: right;\">\n",
       "      <th></th>\n",
       "      <th>Fuel Type</th>\n",
       "      <th>body_type</th>\n",
       "      <th>kms_driven</th>\n",
       "      <th>transmission_type</th>\n",
       "      <th>ownerNo</th>\n",
       "      <th>manufacturer</th>\n",
       "      <th>model</th>\n",
       "      <th>price</th>\n",
       "      <th>mileage(kmpl)</th>\n",
       "      <th>max_power(bhp)</th>\n",
       "      <th>Seats</th>\n",
       "      <th>Insurance Validity</th>\n",
       "      <th>Engine Displacement(cc)</th>\n",
       "      <th>Car_Age</th>\n",
       "    </tr>\n",
       "  </thead>\n",
       "  <tbody>\n",
       "    <tr>\n",
       "      <th>0</th>\n",
       "      <td>4</td>\n",
       "      <td>2</td>\n",
       "      <td>120000</td>\n",
       "      <td>1</td>\n",
       "      <td>3</td>\n",
       "      <td>20</td>\n",
       "      <td>142</td>\n",
       "      <td>400000.0</td>\n",
       "      <td>23.10</td>\n",
       "      <td>67.04</td>\n",
       "      <td>5</td>\n",
       "      <td>7</td>\n",
       "      <td>998</td>\n",
       "      <td>9</td>\n",
       "    </tr>\n",
       "    <tr>\n",
       "      <th>1</th>\n",
       "      <td>4</td>\n",
       "      <td>7</td>\n",
       "      <td>32706</td>\n",
       "      <td>1</td>\n",
       "      <td>2</td>\n",
       "      <td>6</td>\n",
       "      <td>47</td>\n",
       "      <td>811000.0</td>\n",
       "      <td>17.00</td>\n",
       "      <td>121.31</td>\n",
       "      <td>5</td>\n",
       "      <td>2</td>\n",
       "      <td>1497</td>\n",
       "      <td>6</td>\n",
       "    </tr>\n",
       "    <tr>\n",
       "      <th>2</th>\n",
       "      <td>4</td>\n",
       "      <td>2</td>\n",
       "      <td>11949</td>\n",
       "      <td>1</td>\n",
       "      <td>1</td>\n",
       "      <td>29</td>\n",
       "      <td>242</td>\n",
       "      <td>585000.0</td>\n",
       "      <td>23.84</td>\n",
       "      <td>84.00</td>\n",
       "      <td>5</td>\n",
       "      <td>2</td>\n",
       "      <td>1199</td>\n",
       "      <td>6</td>\n",
       "    </tr>\n",
       "    <tr>\n",
       "      <th>3</th>\n",
       "      <td>4</td>\n",
       "      <td>8</td>\n",
       "      <td>17794</td>\n",
       "      <td>1</td>\n",
       "      <td>1</td>\n",
       "      <td>9</td>\n",
       "      <td>81</td>\n",
       "      <td>462000.0</td>\n",
       "      <td>19.10</td>\n",
       "      <td>81.86</td>\n",
       "      <td>5</td>\n",
       "      <td>2</td>\n",
       "      <td>1197</td>\n",
       "      <td>10</td>\n",
       "    </tr>\n",
       "    <tr>\n",
       "      <th>4</th>\n",
       "      <td>1</td>\n",
       "      <td>7</td>\n",
       "      <td>60000</td>\n",
       "      <td>1</td>\n",
       "      <td>1</td>\n",
       "      <td>20</td>\n",
       "      <td>157</td>\n",
       "      <td>790000.0</td>\n",
       "      <td>23.65</td>\n",
       "      <td>88.50</td>\n",
       "      <td>5</td>\n",
       "      <td>7</td>\n",
       "      <td>1248</td>\n",
       "      <td>9</td>\n",
       "    </tr>\n",
       "  </tbody>\n",
       "</table>\n",
       "</div>"
      ],
      "text/plain": [
       "   Fuel Type  body_type  kms_driven  transmission_type  ownerNo  manufacturer  \\\n",
       "0          4          2      120000                  1        3            20   \n",
       "1          4          7       32706                  1        2             6   \n",
       "2          4          2       11949                  1        1            29   \n",
       "3          4          8       17794                  1        1             9   \n",
       "4          1          7       60000                  1        1            20   \n",
       "\n",
       "   model     price  mileage(kmpl)  max_power(bhp)  Seats  Insurance Validity  \\\n",
       "0    142  400000.0          23.10           67.04      5                   7   \n",
       "1     47  811000.0          17.00          121.31      5                   2   \n",
       "2    242  585000.0          23.84           84.00      5                   2   \n",
       "3     81  462000.0          19.10           81.86      5                   2   \n",
       "4    157  790000.0          23.65           88.50      5                   7   \n",
       "\n",
       "   Engine Displacement(cc)  Car_Age  \n",
       "0                      998        9  \n",
       "1                     1497        6  \n",
       "2                     1199        6  \n",
       "3                     1197       10  \n",
       "4                     1248        9  "
      ]
     },
     "execution_count": 35,
     "metadata": {},
     "output_type": "execute_result"
    }
   ],
   "source": [
    "car_details.head()"
   ]
  },
  {
   "cell_type": "code",
   "execution_count": 37,
   "metadata": {},
   "outputs": [],
   "source": [
    "car_details.to_csv('final_data.csv',index =False)"
   ]
  }
 ],
 "metadata": {
  "kernelspec": {
   "display_name": "Python 3",
   "language": "python",
   "name": "python3"
  },
  "language_info": {
   "codemirror_mode": {
    "name": "ipython",
    "version": 3
   },
   "file_extension": ".py",
   "mimetype": "text/x-python",
   "name": "python",
   "nbconvert_exporter": "python",
   "pygments_lexer": "ipython3",
   "version": "3.10.0"
  }
 },
 "nbformat": 4,
 "nbformat_minor": 2
}
